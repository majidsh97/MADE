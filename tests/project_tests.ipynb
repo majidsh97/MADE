{
 "cells": [
  {
   "cell_type": "code",
   "execution_count": 1,
   "metadata": {},
   "outputs": [
    {
     "name": "stdout",
     "output_type": "stream",
     "text": [
      "\u001b[34mInstalling dependencies from lock file\u001b[39m\n",
      "\n",
      "\u001b[39;1mInstalling\u001b[39;22m the current project: \u001b[36mmade\u001b[39m (\u001b[39;1m0.0.1\u001b[39;22m)\u001b[1G\u001b[2K\u001b[39;1mInstalling\u001b[39;22m the current project: \u001b[36mmade\u001b[39m (\u001b[32m0.0.1\u001b[39m)\n"
     ]
    }
   ],
   "source": [
    "!poetry install"
   ]
  },
  {
   "cell_type": "code",
   "execution_count": 2,
   "metadata": {},
   "outputs": [],
   "source": [
    "from project.config import settings\n",
    "from os.path import join"
   ]
  },
  {
   "cell_type": "code",
   "execution_count": 3,
   "metadata": {},
   "outputs": [
    {
     "name": "stdout",
     "output_type": "stream",
     "text": [
      "Warning: Looks like you're using an outdated `kagglehub` version, please consider updating (latest version: 0.3.4)\n",
      "Downloaded dataset from syedabdulshameer/international-students-in-canada to /home/cip/ce/ix05ogym/Majid/MADE/data/\n",
      "Warning: Looks like you're using an outdated `kagglehub` version, please consider updating (latest version: 0.3.4)\n",
      "Downloaded dataset from webdevbadger/international-student-demographics to /home/cip/ce/ix05ogym/Majid/MADE/data/\n",
      "All datasets downloaded.\n",
      "Loaded origin into memory.\n",
      "Loaded field_of_study into memory.\n",
      "Loaded academic_detail into memory.\n",
      "Loaded Internation_students_Canada into memory.\n",
      "Loaded Internation_students_Province_Canada into memory.\n",
      "Loaded source_of_fund into memory.\n",
      "Loaded status into memory.\n",
      "Loaded International_Students_Study_level into memory.\n",
      "Loaded academic into memory.\n"
     ]
    },
    {
     "data": {
      "text/plain": [
       "dict_keys(['origin', 'field_of_study', 'academic_detail', 'Internation_students_Canada', 'Internation_students_Province_Canada', 'source_of_fund', 'status', 'International_Students_Study_level', 'academic'])"
      ]
     },
     "execution_count": 3,
     "metadata": {},
     "output_type": "execute_result"
    }
   ],
   "source": [
    "from project.ETL import Extract,Load,DataTransformer\n",
    "\n",
    "extract =  Extract(settings.paths.data_path,settings.urls.values())\n",
    "extract.download_datasets()\n",
    "df = extract.load_csv_files()\n",
    "df.keys()\n",
    "\n",
    "\n"
   ]
  },
  {
   "cell_type": "code",
   "execution_count": null,
   "metadata": {},
   "outputs": [],
   "source": []
  },
  {
   "cell_type": "code",
   "execution_count": null,
   "metadata": {},
   "outputs": [
    {
     "name": "stdout",
     "output_type": "stream",
     "text": [
      "Data successfully saved to SQLite database at /home/cip/ce/ix05ogym/Majid/MADE/data/international_students_north_america.db in table 'Internation_students_Canada'.\n"
     ]
    }
   ],
   "source": [
    "load = Load(join(settings.paths.data_path,'international_students_north_america.db'))\n",
    "load.save_to_sqlite(df['Internation_students_Canada'], 'international_students_north_america')"
   ]
  }
 ],
 "metadata": {
  "kernelspec": {
   "display_name": "myenv",
   "language": "python",
   "name": "myenv"
  },
  "language_info": {
   "codemirror_mode": {
    "name": "ipython",
    "version": 3
   },
   "file_extension": ".py",
   "mimetype": "text/x-python",
   "name": "python",
   "nbconvert_exporter": "python",
   "pygments_lexer": "ipython3",
   "version": "3.11.7"
  }
 },
 "nbformat": 4,
 "nbformat_minor": 2
}
