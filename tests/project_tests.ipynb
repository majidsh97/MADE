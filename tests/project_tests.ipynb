{
 "cells": [
  {
   "cell_type": "code",
   "execution_count": 1,
   "metadata": {},
   "outputs": [
    {
     "name": "stdout",
     "output_type": "stream",
     "text": [
      "\u001b[34mInstalling dependencies from lock file\u001b[39m\n",
      "\n",
      "\u001b[39;1mInstalling\u001b[39;22m the current project: \u001b[36mmade\u001b[39m (\u001b[39;1m0.0.1\u001b[39;22m)\u001b[1G\u001b[2K\u001b[39;1mInstalling\u001b[39;22m the current project: \u001b[36mmade\u001b[39m (\u001b[32m0.0.1\u001b[39m)\n"
     ]
    }
   ],
   "source": [
    "!poetry install"
   ]
  },
  {
   "cell_type": "code",
   "execution_count": 2,
   "metadata": {},
   "outputs": [],
   "source": [
    "from project.config import settings\n",
    "from os.path import join\n",
    "import pandas as pd"
   ]
  },
  {
   "cell_type": "code",
   "execution_count": 3,
   "metadata": {},
   "outputs": [
    {
     "name": "stdout",
     "output_type": "stream",
     "text": [
      "Warning: Looks like you're using an outdated `kagglehub` version, please consider updating (latest version: 0.3.4)\n",
      "Downloaded dataset from syedabdulshameer/international-students-in-canada to /home/cip/ce/ix05ogym/Majid/MADE/data/\n",
      "Warning: Looks like you're using an outdated `kagglehub` version, please consider updating (latest version: 0.3.4)\n",
      "Downloaded dataset from webdevbadger/international-student-demographics to /home/cip/ce/ix05ogym/Majid/MADE/data/\n",
      "All datasets downloaded.\n",
      "Loaded origin into memory.\n",
      "Loaded field_of_study into memory.\n",
      "Loaded academic_detail into memory.\n",
      "Loaded international_students_north_america into memory.\n",
      "Loaded Internation_students_Canada into memory.\n",
      "Loaded Internation_students_Province_Canada into memory.\n",
      "Loaded source_of_fund into memory.\n",
      "Loaded status into memory.\n",
      "Loaded International_Students_Study_level into memory.\n",
      "Loaded academic into memory.\n"
     ]
    },
    {
     "data": {
      "text/plain": [
       "dict_keys(['origin', 'field_of_study', 'academic_detail', 'international_students_north_america', 'Internation_students_Canada', 'Internation_students_Province_Canada', 'source_of_fund', 'status', 'International_Students_Study_level', 'academic'])"
      ]
     },
     "execution_count": 3,
     "metadata": {},
     "output_type": "execute_result"
    }
   ],
   "source": [
    "from project.ETL import Extract,Load,Transform\n",
    "\n",
    "extract =  Extract(settings.paths.data_path,settings.urls.values())\n",
    "extract.download_datasets()\n",
    "df = extract.load_csv_files()\n",
    "df.keys()\n",
    "\n",
    "\n"
   ]
  },
  {
   "cell_type": "code",
   "execution_count": null,
   "metadata": {},
   "outputs": [
    {
     "name": "stdout",
     "output_type": "stream",
     "text": [
      "Data transformation complete.\n"
     ]
    },
    {
     "name": "stderr",
     "output_type": "stream",
     "text": [
      "/home/cip/ce/ix05ogym/Majid/MADE/project/ETL/transform.py:49: FutureWarning: Setting an item of incompatible dtype is deprecated and will raise in a future error of pandas. Value '0        95.0\n",
      "1       115.0\n",
      "2      1060.0\n",
      "3         0.0\n",
      "4        65.0\n",
      "        ...  \n",
      "149    2980.0\n",
      "150       0.0\n",
      "151     175.0\n",
      "152     120.0\n",
      "153     335.0\n",
      "Name: 2015_Canada, Length: 154, dtype: float64' has dtype incompatible with int64, please explicitly cast to a compatible dtype first.\n",
      "  merged_table.iloc[:, 1:] = merged_table.iloc[:, 1:].astype('float64')\n",
      "/home/cip/ce/ix05ogym/Majid/MADE/project/ETL/transform.py:49: FutureWarning: Setting an item of incompatible dtype is deprecated and will raise in a future error of pandas. Value '0       115.0\n",
      "1       165.0\n",
      "2       845.0\n",
      "3         0.0\n",
      "4        80.0\n",
      "        ...  \n",
      "149    5495.0\n",
      "150       0.0\n",
      "151     210.0\n",
      "152     125.0\n",
      "153     500.0\n",
      "Name: 2016_Canada, Length: 154, dtype: float64' has dtype incompatible with int64, please explicitly cast to a compatible dtype first.\n",
      "  merged_table.iloc[:, 1:] = merged_table.iloc[:, 1:].astype('float64')\n",
      "/home/cip/ce/ix05ogym/Majid/MADE/project/ETL/transform.py:49: FutureWarning: Setting an item of incompatible dtype is deprecated and will raise in a future error of pandas. Value '0         95.0\n",
      "1        185.0\n",
      "2       1020.0\n",
      "3          0.0\n",
      "4         40.0\n",
      "        ...   \n",
      "149    10130.0\n",
      "150        0.0\n",
      "151      265.0\n",
      "152      120.0\n",
      "153      445.0\n",
      "Name: 2017_Canada, Length: 154, dtype: float64' has dtype incompatible with int64, please explicitly cast to a compatible dtype first.\n",
      "  merged_table.iloc[:, 1:] = merged_table.iloc[:, 1:].astype('float64')\n",
      "/home/cip/ce/ix05ogym/Majid/MADE/project/ETL/transform.py:49: FutureWarning: Setting an item of incompatible dtype is deprecated and will raise in a future error of pandas. Value '0         80.0\n",
      "1        245.0\n",
      "2       1490.0\n",
      "3          0.0\n",
      "4         25.0\n",
      "        ...   \n",
      "149    12700.0\n",
      "150        0.0\n",
      "151      275.0\n",
      "152      125.0\n",
      "153      440.0\n",
      "Name: 2018_Canada, Length: 154, dtype: float64' has dtype incompatible with int64, please explicitly cast to a compatible dtype first.\n",
      "  merged_table.iloc[:, 1:] = merged_table.iloc[:, 1:].astype('float64')\n",
      "/home/cip/ce/ix05ogym/Majid/MADE/project/ETL/transform.py:49: FutureWarning: Setting an item of incompatible dtype is deprecated and will raise in a future error of pandas. Value '0         95.0\n",
      "1        375.0\n",
      "2       2690.0\n",
      "3          0.0\n",
      "4        120.0\n",
      "        ...   \n",
      "149    12130.0\n",
      "150        0.0\n",
      "151      275.0\n",
      "152      135.0\n",
      "153      375.0\n",
      "Name: 2019_Canada, Length: 154, dtype: float64' has dtype incompatible with int64, please explicitly cast to a compatible dtype first.\n",
      "  merged_table.iloc[:, 1:] = merged_table.iloc[:, 1:].astype('float64')\n",
      "/home/cip/ce/ix05ogym/Majid/MADE/project/ETL/transform.py:49: FutureWarning: Setting an item of incompatible dtype is deprecated and will raise in a future error of pandas. Value '0        90.0\n",
      "1       250.0\n",
      "2      2170.0\n",
      "3         0.0\n",
      "4        30.0\n",
      "        ...  \n",
      "149    9990.0\n",
      "150       0.0\n",
      "151     260.0\n",
      "152     105.0\n",
      "153     345.0\n",
      "Name: 2020_Canada, Length: 154, dtype: float64' has dtype incompatible with int64, please explicitly cast to a compatible dtype first.\n",
      "  merged_table.iloc[:, 1:] = merged_table.iloc[:, 1:].astype('float64')\n",
      "/home/cip/ce/ix05ogym/Majid/MADE/project/ETL/transform.py:49: FutureWarning: Setting an item of incompatible dtype is deprecated and will raise in a future error of pandas. Value '0        80.0\n",
      "1       305.0\n",
      "2      3165.0\n",
      "3        10.0\n",
      "4        50.0\n",
      "        ...  \n",
      "149    9670.0\n",
      "150       0.0\n",
      "151     210.0\n",
      "152     130.0\n",
      "153     525.0\n",
      "Name: 2021_Canada, Length: 154, dtype: float64' has dtype incompatible with int64, please explicitly cast to a compatible dtype first.\n",
      "  merged_table.iloc[:, 1:] = merged_table.iloc[:, 1:].astype('float64')\n",
      "/home/cip/ce/ix05ogym/Majid/MADE/project/ETL/transform.py:49: FutureWarning: Setting an item of incompatible dtype is deprecated and will raise in a future error of pandas. Value '0        170.0\n",
      "1        345.0\n",
      "2       5360.0\n",
      "3          5.0\n",
      "4         75.0\n",
      "        ...   \n",
      "149    10365.0\n",
      "150        0.0\n",
      "151      170.0\n",
      "152      170.0\n",
      "153      700.0\n",
      "Name: 2022_Canada, Length: 154, dtype: float64' has dtype incompatible with int64, please explicitly cast to a compatible dtype first.\n",
      "  merged_table.iloc[:, 1:] = merged_table.iloc[:, 1:].astype('float64')\n",
      "/home/cip/ce/ix05ogym/Majid/MADE/project/ETL/transform.py:49: FutureWarning: Setting an item of incompatible dtype is deprecated and will raise in a future error of pandas. Value '0        140.0\n",
      "1        545.0\n",
      "2       7180.0\n",
      "3          0.0\n",
      "4         65.0\n",
      "        ...   \n",
      "149    10280.0\n",
      "150        0.0\n",
      "151      155.0\n",
      "152      195.0\n",
      "153      730.0\n",
      "Name: 2023, Length: 154, dtype: float64' has dtype incompatible with int64, please explicitly cast to a compatible dtype first.\n",
      "  merged_table.iloc[:, 1:] = merged_table.iloc[:, 1:].astype('float64')\n"
     ]
    },
    {
     "data": {
      "text/html": [
       "<div>\n",
       "<style scoped>\n",
       "    .dataframe tbody tr th:only-of-type {\n",
       "        vertical-align: middle;\n",
       "    }\n",
       "\n",
       "    .dataframe tbody tr th {\n",
       "        vertical-align: top;\n",
       "    }\n",
       "\n",
       "    .dataframe thead th {\n",
       "        text-align: right;\n",
       "    }\n",
       "</style>\n",
       "<table border=\"1\" class=\"dataframe\">\n",
       "  <thead>\n",
       "    <tr style=\"text-align: right;\">\n",
       "      <th></th>\n",
       "      <th>origin</th>\n",
       "      <th>2015_US</th>\n",
       "      <th>2016_US</th>\n",
       "      <th>2017_US</th>\n",
       "      <th>2018_US</th>\n",
       "      <th>2019_US</th>\n",
       "      <th>2020_US</th>\n",
       "      <th>2021_US</th>\n",
       "      <th>2022_US</th>\n",
       "      <th>2015_Canada</th>\n",
       "      <th>2016_Canada</th>\n",
       "      <th>2017_Canada</th>\n",
       "      <th>2018_Canada</th>\n",
       "      <th>2019_Canada</th>\n",
       "      <th>2020_Canada</th>\n",
       "      <th>2021_Canada</th>\n",
       "      <th>2022_Canada</th>\n",
       "    </tr>\n",
       "  </thead>\n",
       "  <tbody>\n",
       "  </tbody>\n",
       "</table>\n",
       "</div>"
      ],
      "text/plain": [
       "Empty DataFrame\n",
       "Columns: [origin, 2015_US, 2016_US, 2017_US, 2018_US, 2019_US, 2020_US, 2021_US, 2022_US, 2015_Canada, 2016_Canada, 2017_Canada, 2018_Canada, 2019_Canada, 2020_Canada, 2021_Canada, 2022_Canada]\n",
       "Index: []"
      ]
     },
     "execution_count": 4,
     "metadata": {},
     "output_type": "execute_result"
    }
   ],
   "source": [
    "transform = Transform(df)\n",
    "\n",
    "merged_table = transform.transform(join(settings.paths.data_path ,\"international_students_north_america.csv\"))\n",
    "merged_table.head()\n"
   ]
  },
  {
   "cell_type": "code",
   "execution_count": 5,
   "metadata": {},
   "outputs": [
    {
     "name": "stdout",
     "output_type": "stream",
     "text": [
      "Data successfully saved to SQLite database at /home/cip/ce/ix05ogym/Majid/MADE/data/international_students_north_america.db in table 'international_students_north_america'.\n"
     ]
    }
   ],
   "source": [
    "load = Load(join(settings.paths.data_path,'international_students_north_america.db'))\n",
    "load.save_to_sqlite(join(settings.paths.data_path ,\"international_students_north_america.csv\"), 'international_students_north_america')"
   ]
  }
 ],
 "metadata": {
  "kernelspec": {
   "display_name": "myenv",
   "language": "python",
   "name": "myenv"
  },
  "language_info": {
   "codemirror_mode": {
    "name": "ipython",
    "version": 3
   },
   "file_extension": ".py",
   "mimetype": "text/x-python",
   "name": "python",
   "nbconvert_exporter": "python",
   "pygments_lexer": "ipython3",
   "version": "3.11.7"
  }
 },
 "nbformat": 4,
 "nbformat_minor": 2
}
